{
 "cells": [
  {
   "cell_type": "markdown",
   "metadata": {},
   "source": [
    "#  Trees and Random Forests"
   ]
  },
  {
   "cell_type": "markdown",
   "metadata": {},
   "source": [
    "**Author:**\n",
    "[Anthony Strittmatter](http://www.anthonystrittmatter.com)"
   ]
  },
  {
   "cell_type": "markdown",
   "metadata": {},
   "source": [
    "We analyse the browsing and online purchasing behaviour of households using [Comscore’s](https://www.comscore.com/) web browser data. The data ﬁle browser *2006.csv* contains 1,500 households that spent at least 1 US-dollar online in 2006. The variable *spend* is the online spending (in US-dollars) of a household. Furthermore, the data contains the browser history of households for the 1,000 most heavily trafficked websites (see the list of websites in browser-sites.txt). In particular, the data contains the percentage of time spent on speciﬁc websites from the total time spent online. Additionally, we have access to the ﬁle browser *new.csv*, which contains the browser history of 500 new households, but not the online spending."
   ]
  },
  {
   "cell_type": "markdown",
   "metadata": {},
   "source": [
    "## Data Preparation"
   ]
  },
  {
   "cell_type": "markdown",
   "metadata": {},
   "source": [
    "Load the packages *rpart*, *rpart.plot*, *grf*, and *DiagrammeR*. Read the data sets *browser_2006.csv* and *browser_new.csv*. Generate matrices for the outcome, control, as well as id variables for both data sets."
   ]
  },
  {
   "cell_type": "code",
   "execution_count": 1,
   "metadata": {},
   "outputs": [
    {
     "name": "stderr",
     "output_type": "stream",
     "text": [
      "Warning message:\n",
      "\"package 'rpart.plot' was built under R version 3.6.3\"Warning message:\n",
      "\"package 'grf' was built under R version 3.6.3\"Warning message:\n",
      "\"package 'DiagrammeR' was built under R version 3.6.3\""
     ]
    },
    {
     "name": "stdout",
     "output_type": "stream",
     "text": [
      "[1] \"Packages and data successfully loaded.\"\n"
     ]
    }
   ],
   "source": [
    "########################  Load Packages and Data  ########################\n",
    "\n",
    "# Load packages\n",
    "library(rpart)\n",
    "library(rpart.plot)\n",
    "library(grf)\n",
    "library(DiagrammeR)\n",
    "\n",
    "# Load data\n",
    "data_2006 <-read.csv(\"browser_2006.csv\", sep = \",\")\n",
    "data_new <-read.csv(\"browser_new.csv\", sep = \",\")\n",
    "\n",
    "# Data preparation\n",
    "y_2006 <- as.matrix(data_2006[,2])\n",
    "x_2006 <- as.matrix(data_2006[,c(3:ncol(data_2006))])\n",
    "id_2006 <- as.matrix(data_2006[,1])\n",
    "x_new <- as.matrix(data_new[,c(2:ncol(data_new))])\n",
    "id_new <- as.matrix(data_new[,1])\n",
    "\n",
    "print('Packages and data successfully loaded.')\n",
    "\n",
    "#############################################################################"
   ]
  },
  {
   "cell_type": "code",
   "execution_count": 2,
   "metadata": {},
   "outputs": [
    {
     "data": {
      "text/html": [
       "<table>\n",
       "<thead><tr><th scope=col>X</th><th scope=col>spend</th><th scope=col>atdmt.com</th><th scope=col>yahoo.com</th><th scope=col>whenu.com</th><th scope=col>weatherbug.com</th><th scope=col>msn.com</th><th scope=col>google.com</th><th scope=col>aol.com</th><th scope=col>questionmarket.com</th><th scope=col>...</th><th scope=col>ugo.com</th><th scope=col>cox.com</th><th scope=col>spicymint.com</th><th scope=col>real.com.o01</th><th scope=col>targetnet.com</th><th scope=col>effectivebrand.com</th><th scope=col>dallascowboys.com</th><th scope=col>leadgenetwork.com</th><th scope=col>in.us</th><th scope=col>vistaprint.com</th></tr></thead>\n",
       "<tbody>\n",
       "\t<tr><td>1284       </td><td> 816       </td><td> 4.302353  </td><td> 6.631804  </td><td>4.516282   </td><td>0.02376991 </td><td>0.0000000  </td><td> 3.9933444 </td><td>0.02376991 </td><td>1.354885   </td><td>...        </td><td>0.02376991 </td><td>0          </td><td>0.000000000</td><td>0.00000000 </td><td>0.00000000 </td><td>0          </td><td>0          </td><td>0.00000000 </td><td>0.00000000 </td><td>0.00000000 </td></tr>\n",
       "\t<tr><td> 432       </td><td> 953       </td><td> 6.931292  </td><td>13.379005  </td><td>0.000000   </td><td>0.00000000 </td><td>4.1104171  </td><td> 2.5186379 </td><td>0.34253476 </td><td>2.075358   </td><td>...        </td><td>0.00000000 </td><td>0          </td><td>0.000000000</td><td>0.04029821 </td><td>0.00000000 </td><td>0          </td><td>0          </td><td>0.00000000 </td><td>0.00000000 </td><td>0.00000000 </td></tr>\n",
       "\t<tr><td> 397       </td><td>1633       </td><td> 8.168880  </td><td> 7.884250  </td><td>1.337761   </td><td>0.00000000 </td><td>1.7836812  </td><td> 0.8823529 </td><td>1.03415560 </td><td>4.506641   </td><td>...        </td><td>0.00000000 </td><td>0          </td><td>0.009487666</td><td>0.02846300 </td><td>0.00000000 </td><td>0          </td><td>0          </td><td>0.00000000 </td><td>0.00000000 </td><td>0.00000000 </td></tr>\n",
       "\t<tr><td>  50       </td><td> 233       </td><td> 8.960573  </td><td> 9.318996  </td><td>0.000000   </td><td>0.00000000 </td><td>8.9605735  </td><td> 2.1505376 </td><td>5.01792115 </td><td>1.792115   </td><td>...        </td><td>0.00000000 </td><td>0          </td><td>0.000000000</td><td>0.00000000 </td><td>0.00000000 </td><td>0          </td><td>0          </td><td>0.00000000 </td><td>0.00000000 </td><td>0.00000000 </td></tr>\n",
       "\t<tr><td>1362       </td><td>1154       </td><td> 4.621072  </td><td> 1.189926  </td><td>0.000000   </td><td>0.00000000 </td><td>1.2707948  </td><td> 3.6044362 </td><td>0.47365989 </td><td>1.501848   </td><td>...        </td><td>0.04621072 </td><td>0          </td><td>0.011552680</td><td>0.00000000 </td><td>0.03465804 </td><td>0          </td><td>0          </td><td>0.01155268 </td><td>0.03465804 </td><td>0.01155268 </td></tr>\n",
       "\t<tr><td> 921       </td><td> 188       </td><td>13.429454  </td><td>21.874356  </td><td>0.000000   </td><td>0.00000000 </td><td>0.2059732  </td><td>16.8486097 </td><td>0.39134912 </td><td>3.130793   </td><td>...        </td><td>0.00000000 </td><td>0          </td><td>0.000000000</td><td>0.00000000 </td><td>0.00000000 </td><td>0          </td><td>0          </td><td>0.00000000 </td><td>0.00000000 </td><td>0.00000000 </td></tr>\n",
       "</tbody>\n",
       "</table>\n"
      ],
      "text/latex": [
       "\\begin{tabular}{r|llllllllllllllllllllllllllllllllllllllllllllllllllllllllllllllllllllllllllllllllllllllllllllllllllllllllllllllllllllllllllllllllllllllllllllllllllllllllllllllllllllllllllllllllllllllllllllllllllllllllllllllllllllllllllllllllllllllllllllllllllllllllllllllllllllllllllllllllllllllllllllllllllllllllllllllllllllllllllllllllllllllllllllllllllllllllllllllllllllllllllllllllllllllllllllllllllllllllllllllllllllllllllllllllllllllllllllllllllllllllllllllllllllllllllllllllllllllllllllllllllllllllllllllllllllllllllllllllllllllllllllllllllllllllllllllllllllllllllllllllllllllllllllllllllllllllllllllllllllllllllllllllllllllllllllllllllllllllllllllllllllllllllllllllllllllllllllllllllllllllllllllllllllllllllllllllllllllllllllllllllllllllllllllllllllllllllllllllllllllllllllllllllllllllllllllllllllllllllllllllllllllllllllllllllllllllllllllllllllllllllllllllllllllllllllllllllllllllllllllllllllllllllllllllllllllllllllllllllllllllllllllllllllllllllllllllllllllllllllllllllllllllllllllllllllllllllllllllllllllllll}\n",
       " X & spend & atdmt.com & yahoo.com & whenu.com & weatherbug.com & msn.com & google.com & aol.com & questionmarket.com & ... & ugo.com & cox.com & spicymint.com & real.com.o01 & targetnet.com & effectivebrand.com & dallascowboys.com & leadgenetwork.com & in.us & vistaprint.com\\\\\n",
       "\\hline\n",
       "\t 1284        &  816        &  4.302353   &  6.631804   & 4.516282    & 0.02376991  & 0.0000000   &  3.9933444  & 0.02376991  & 1.354885    & ...         & 0.02376991  & 0           & 0.000000000 & 0.00000000  & 0.00000000  & 0           & 0           & 0.00000000  & 0.00000000  & 0.00000000 \\\\\n",
       "\t  432        &  953        &  6.931292   & 13.379005   & 0.000000    & 0.00000000  & 4.1104171   &  2.5186379  & 0.34253476  & 2.075358    & ...         & 0.00000000  & 0           & 0.000000000 & 0.04029821  & 0.00000000  & 0           & 0           & 0.00000000  & 0.00000000  & 0.00000000 \\\\\n",
       "\t  397        & 1633        &  8.168880   &  7.884250   & 1.337761    & 0.00000000  & 1.7836812   &  0.8823529  & 1.03415560  & 4.506641    & ...         & 0.00000000  & 0           & 0.009487666 & 0.02846300  & 0.00000000  & 0           & 0           & 0.00000000  & 0.00000000  & 0.00000000 \\\\\n",
       "\t   50        &  233        &  8.960573   &  9.318996   & 0.000000    & 0.00000000  & 8.9605735   &  2.1505376  & 5.01792115  & 1.792115    & ...         & 0.00000000  & 0           & 0.000000000 & 0.00000000  & 0.00000000  & 0           & 0           & 0.00000000  & 0.00000000  & 0.00000000 \\\\\n",
       "\t 1362        & 1154        &  4.621072   &  1.189926   & 0.000000    & 0.00000000  & 1.2707948   &  3.6044362  & 0.47365989  & 1.501848    & ...         & 0.04621072  & 0           & 0.011552680 & 0.00000000  & 0.03465804  & 0           & 0           & 0.01155268  & 0.03465804  & 0.01155268 \\\\\n",
       "\t  921        &  188        & 13.429454   & 21.874356   & 0.000000    & 0.00000000  & 0.2059732   & 16.8486097  & 0.39134912  & 3.130793    & ...         & 0.00000000  & 0           & 0.000000000 & 0.00000000  & 0.00000000  & 0           & 0           & 0.00000000  & 0.00000000  & 0.00000000 \\\\\n",
       "\\end{tabular}\n"
      ],
      "text/markdown": [
       "\n",
       "| X | spend | atdmt.com | yahoo.com | whenu.com | weatherbug.com | msn.com | google.com | aol.com | questionmarket.com | ... | ugo.com | cox.com | spicymint.com | real.com.o01 | targetnet.com | effectivebrand.com | dallascowboys.com | leadgenetwork.com | in.us | vistaprint.com |\n",
       "|---|---|---|---|---|---|---|---|---|---|---|---|---|---|---|---|---|---|---|---|---|\n",
       "| 1284        |  816        |  4.302353   |  6.631804   | 4.516282    | 0.02376991  | 0.0000000   |  3.9933444  | 0.02376991  | 1.354885    | ...         | 0.02376991  | 0           | 0.000000000 | 0.00000000  | 0.00000000  | 0           | 0           | 0.00000000  | 0.00000000  | 0.00000000  |\n",
       "|  432        |  953        |  6.931292   | 13.379005   | 0.000000    | 0.00000000  | 4.1104171   |  2.5186379  | 0.34253476  | 2.075358    | ...         | 0.00000000  | 0           | 0.000000000 | 0.04029821  | 0.00000000  | 0           | 0           | 0.00000000  | 0.00000000  | 0.00000000  |\n",
       "|  397        | 1633        |  8.168880   |  7.884250   | 1.337761    | 0.00000000  | 1.7836812   |  0.8823529  | 1.03415560  | 4.506641    | ...         | 0.00000000  | 0           | 0.009487666 | 0.02846300  | 0.00000000  | 0           | 0           | 0.00000000  | 0.00000000  | 0.00000000  |\n",
       "|   50        |  233        |  8.960573   |  9.318996   | 0.000000    | 0.00000000  | 8.9605735   |  2.1505376  | 5.01792115  | 1.792115    | ...         | 0.00000000  | 0           | 0.000000000 | 0.00000000  | 0.00000000  | 0           | 0           | 0.00000000  | 0.00000000  | 0.00000000  |\n",
       "| 1362        | 1154        |  4.621072   |  1.189926   | 0.000000    | 0.00000000  | 1.2707948   |  3.6044362  | 0.47365989  | 1.501848    | ...         | 0.04621072  | 0           | 0.011552680 | 0.00000000  | 0.03465804  | 0           | 0           | 0.01155268  | 0.03465804  | 0.01155268  |\n",
       "|  921        |  188        | 13.429454   | 21.874356   | 0.000000    | 0.00000000  | 0.2059732   | 16.8486097  | 0.39134912  | 3.130793    | ...         | 0.00000000  | 0           | 0.000000000 | 0.00000000  | 0.00000000  | 0           | 0           | 0.00000000  | 0.00000000  | 0.00000000  |\n",
       "\n"
      ],
      "text/plain": [
       "  X    spend atdmt.com yahoo.com whenu.com weatherbug.com msn.com   google.com\n",
       "1 1284  816   4.302353  6.631804 4.516282  0.02376991     0.0000000  3.9933444\n",
       "2  432  953   6.931292 13.379005 0.000000  0.00000000     4.1104171  2.5186379\n",
       "3  397 1633   8.168880  7.884250 1.337761  0.00000000     1.7836812  0.8823529\n",
       "4   50  233   8.960573  9.318996 0.000000  0.00000000     8.9605735  2.1505376\n",
       "5 1362 1154   4.621072  1.189926 0.000000  0.00000000     1.2707948  3.6044362\n",
       "6  921  188  13.429454 21.874356 0.000000  0.00000000     0.2059732 16.8486097\n",
       "  aol.com    questionmarket.com ... ugo.com    cox.com spicymint.com\n",
       "1 0.02376991 1.354885           ... 0.02376991 0       0.000000000  \n",
       "2 0.34253476 2.075358           ... 0.00000000 0       0.000000000  \n",
       "3 1.03415560 4.506641           ... 0.00000000 0       0.009487666  \n",
       "4 5.01792115 1.792115           ... 0.00000000 0       0.000000000  \n",
       "5 0.47365989 1.501848           ... 0.04621072 0       0.011552680  \n",
       "6 0.39134912 3.130793           ... 0.00000000 0       0.000000000  \n",
       "  real.com.o01 targetnet.com effectivebrand.com dallascowboys.com\n",
       "1 0.00000000   0.00000000    0                  0                \n",
       "2 0.04029821   0.00000000    0                  0                \n",
       "3 0.02846300   0.00000000    0                  0                \n",
       "4 0.00000000   0.00000000    0                  0                \n",
       "5 0.00000000   0.03465804    0                  0                \n",
       "6 0.00000000   0.00000000    0                  0                \n",
       "  leadgenetwork.com in.us      vistaprint.com\n",
       "1 0.00000000        0.00000000 0.00000000    \n",
       "2 0.00000000        0.00000000 0.00000000    \n",
       "3 0.00000000        0.00000000 0.00000000    \n",
       "4 0.00000000        0.00000000 0.00000000    \n",
       "5 0.01155268        0.03465804 0.01155268    \n",
       "6 0.00000000        0.00000000 0.00000000    "
      ]
     },
     "metadata": {},
     "output_type": "display_data"
    }
   ],
   "source": [
    "head(data_2006)"
   ]
  },
  {
   "cell_type": "markdown",
   "metadata": {},
   "source": [
    "## Exercise 1: Data Description"
   ]
  },
  {
   "cell_type": "markdown",
   "metadata": {},
   "source": [
    "**a) How much is the average online spending in 2006?**"
   ]
  },
  {
   "cell_type": "code",
   "execution_count": 3,
   "metadata": {},
   "outputs": [
    {
     "name": "stdout",
     "output_type": "stream",
     "text": [
      "[1] \"In 2006, the average spending is 2064.6 US-dollars\"\n"
     ]
    }
   ],
   "source": [
    "########################  Average Spending  ########################\n",
    "\n",
    "spending <- round(mean(y_2006), digits=2)\n",
    "print(paste0(\"In 2006, the average spending is \", spending, \" US-dollars\"))\n",
    "\n",
    "####################################################################"
   ]
  },
  {
   "cell_type": "markdown",
   "metadata": {},
   "source": [
    "**b) Generate a variable for log online spendings. Plot the cumulative distribution of online spendings and log online spendings.**"
   ]
  },
  {
   "cell_type": "code",
   "execution_count": 5,
   "metadata": {},
   "outputs": [
    {
     "data": {
      "image/png": "[encoded data removed]",
      "text/plain": [
       "Plot with title \"Distribution of Spending\""
      ]
     },
     "metadata": {},
     "output_type": "display_data"
    },
    {
     "data": {
      "image/png": "[encoded data removed]",
      "text/plain": [
       "Plot with title \"Distribution of Log Spending\""
      ]
     },
     "metadata": {},
     "output_type": "display_data"
    }
   ],
   "source": [
    "########################  Log Transformation  ########################\n",
    "\n",
    "log_y_2006 = as.matrix(log(y_2006)) # take logarithm\n",
    "\n",
    "# Cumulative Distribution of Spending\n",
    "plot(ecdf(y_2006), xlab = \"Spending in US-Dollars\", sub = \"(Truncated at 20,000 US-Dollars)\",\n",
    "     ylab = \"cdf\", main = \"Distribution of Spending\", xlim= c(0,20000))\n",
    "\n",
    "# Cumulative Distribution of Log Spendiung\n",
    "plot(ecdf(log_y_2006), xlab = \"log Spending\", ylab = \"cdf\", main = \"Distribution of Log Spending\")\n",
    "\n",
    "#######################################################################"
   ]
  },
  {
   "cell_type": "markdown",
   "metadata": {},
   "source": [
    "**c) Randomly partition the 2006 data into a training and estimation sample of equal size. For this purpose, generate a variable that indicates the rows that are included in the training sample (using the *sample* command).**"
   ]
  },
  {
   "cell_type": "code",
   "execution_count": 6,
   "metadata": {},
   "outputs": [
    {
     "name": "stdout",
     "output_type": "stream",
     "text": [
      "[1] \"Training and test samples created.\"\n"
     ]
    }
   ],
   "source": [
    "########################  Training and Test Samples  ########################\n",
    "\n",
    "set.seed(1001)\n",
    "# Generate variable with the rows in training data\n",
    "size <- floor(0.5 * nrow(data_2006))\n",
    "training_set <- sample(seq_len(nrow(data_2006)), size = size)\n",
    "\n",
    "print('Training and test samples created.')\n",
    "\n",
    "#############################################################################"
   ]
  },
  {
   "cell_type": "markdown",
   "metadata": {},
   "source": [
    "## Exercise 2: Trees"
   ]
  },
  {
   "cell_type": "markdown",
   "metadata": {},
   "source": [
    "**a) Build in the training sample a shallow tree (terminal leaves should contain at least\n",
    "150 observations) with the outcome log online spendings. Plot the structure of the\n",
    "shallow tree.**"
   ]
  },
  {
   "cell_type": "code",
   "execution_count": null,
   "metadata": {},
   "outputs": [],
   "source": [
    "########################  Shallow Tree  ########################\n",
    "\n",
    "# Prepare data for tree estimator\n",
    "outcome <- log_y_2006[training_set]\n",
    "tree_data_2006 <-  data.frame(outcome, x_2006[training_set,])\n",
    "\n",
    "# Build shallow tree\n",
    "set.seed(1001)\n",
    "shallow_tree <- rpart(formula = outcome ~., data = tree_data_2006, method = \"anova\", \n",
    "                             y = TRUE, control = rpart.control(xval = 10, cp = 0.00002, minbucket=150))\n",
    "# Note: 'minbucket=150' imposes the restriction that each terminal leave should contain at least 150 observations. \n",
    "# The algorithm 'rpart' stops growing trees when either one leave has less than 150 observations or \n",
    "# the MSE gain of addidng one addidtional leave is below cp=0.00002.\n",
    "\n",
    "## Plot tree structure\n",
    "rpart.plot(shallow_tree,digits=3)\n",
    "\n",
    "# bizrate.com\n",
    "# fedex.com\n",
    "\n",
    "################################################################"
   ]
  },
  {
   "cell_type": "markdown",
   "metadata": {},
   "source": [
    "**b) Build in the training sample a deep tree (terminal leaves should contain at least\n",
    "10 observations) with the outcome log online spendings. Plot the cross-validated MSE.**"
   ]
  },
  {
   "cell_type": "code",
   "execution_count": null,
   "metadata": {},
   "outputs": [],
   "source": [
    "########################  Deep Tree  ########################\n",
    "set.seed(1001)\n",
    "deep_tree <- rpart(formula = outcome ~., data = tree_data_2006, ???)\n",
    "\n",
    "print('Relative CV-MSE for different tree sizes')\n",
    "print(deep_tree$cptable)\n",
    "\n",
    "# Plot CV-MSE\n",
    "plotcp(deep_tree)\n",
    "\n",
    "#############################################################"
   ]
  },
  {
   "cell_type": "markdown",
   "metadata": {},
   "source": [
    "**c) Determine the optimal number of terminal leaves.**"
   ]
  },
  {
   "cell_type": "code",
   "execution_count": null,
   "metadata": {},
   "outputs": [],
   "source": [
    "########################  Optimal Tree Size  ########################\n",
    "\n",
    "op.index <- which.min(deep_tree$cptable[, \"xerror\"])\n",
    "op.size <- deep_tree$cptable[op.index, \"nsplit\"] +1\n",
    "print(paste0(\"Optimal number final leaves: \", op.size))\n",
    "\n",
    "#####################################################################"
   ]
  },
  {
   "cell_type": "markdown",
   "metadata": {},
   "source": [
    "**d) Prune the deep tree and plot the structure of the pruned tree.**"
   ]
  },
  {
   "cell_type": "code",
   "execution_count": null,
   "metadata": {},
   "outputs": [],
   "source": [
    "########################  Pruned Tree  ########################\n",
    "\n",
    "# Select the Tree that Minimises CV-MSE \n",
    "# Get cp-value that corresponds to optimal tree size\n",
    "cp.vals <- deep_tree$cptable[op.index, \"CP\"]\n",
    "\n",
    "# Prune the deep tree\n",
    "pruned_tree <- prune(???, cp = cp.vals)\n",
    "\n",
    "## Plot tree structure\n",
    "rpart.plot(pruned_tree,digits=3)\n",
    "\n",
    "# aggregateknowledge.com\n",
    "\n",
    "################################################################"
   ]
  },
  {
   "cell_type": "markdown",
   "metadata": {},
   "source": [
    "**e) Calculate the $\\mathbf{R^2}$ in the test sample.**"
   ]
  },
  {
   "cell_type": "code",
   "execution_count": null,
   "metadata": {},
   "outputs": [],
   "source": [
    "########################  Out-of-Sample Performance  ########################\n",
    "\n",
    "# Predict log online spending \n",
    "pred_tree <- predict(???, newdata= as.data.frame(x_2006))\n",
    "\n",
    "# Test sample data\n",
    "outcome_test <- log_y_2006[-training_set]\n",
    "pred_tree_test  <- pred_tree[-training_set]\n",
    "\n",
    "# R-squared\n",
    "MSE_tree <- mean((outcome_test-pred_tree_test)^2)\n",
    "r2_tree <-  round(1- MSE_tree/var(outcome_test), digits = 3) \n",
    "print(paste0(\"Test sample R-squared: \", r2_tree))\n",
    "\n",
    "##############################################################################"
   ]
  },
  {
   "cell_type": "markdown",
   "metadata": {},
   "source": [
    "## Exercise 3: Random Forests"
   ]
  },
  {
   "cell_type": "markdown",
   "metadata": {},
   "source": [
    "**a) Build in the training sample a random forest to predict log online spending. The\n",
    "forest should contain 1000 trees. Each tree should use a 50% subsample of the\n",
    "training data, 1/3 of the covariates, and restrict the min.node.size to 100.**"
   ]
  },
  {
   "cell_type": "code",
   "execution_count": null,
   "metadata": {},
   "outputs": [],
   "source": [
    "########################  Random Forest  ########################\n",
    "\n",
    "rep <- 1000 # number of trees\n",
    "cov <- 1/3 # share of covariates\n",
    "frac <- 1/2 # fraction of subsample\n",
    "min_obs <- 100 # max. size of terminal leaves in trees\n",
    "\n",
    "# Build Forest\n",
    "set.seed(10001)\n",
    "forest1 <- regression_forest(x_2006[training_set,],log_y_2006[training_set,], \n",
    "                            mtry = floor(cov*ncol(x_2006)), sample.fraction = frac, num.trees = rep, \n",
    "                            min.node.size = min_obs, honesty=FALSE)\n",
    "\n",
    "print('Forest is built.')\n",
    "\n",
    "##################################################################"
   ]
  },
  {
   "cell_type": "markdown",
   "metadata": {},
   "source": [
    "**b) Plot a tree of the forest.**"
   ]
  },
  {
   "cell_type": "code",
   "execution_count": null,
   "metadata": {},
   "outputs": [],
   "source": [
    "########################  Plot Example Tree  ########################\n",
    "\n",
    "# Plot a tree of the forest\n",
    "# Just an illustration, overall the forest contains 1000 trees\n",
    "tree <- get_tree(???,1) # here we select tree number 1\n",
    "plot(tree)\n",
    "\n",
    "#####################################################################"
   ]
  },
  {
   "cell_type": "markdown",
   "metadata": {},
   "source": [
    "**c) Plot the variable importance. Why do we have to be cautious when interpreting\n",
    "the variable importance?**"
   ]
  },
  {
   "cell_type": "code",
   "execution_count": null,
   "metadata": {},
   "outputs": [],
   "source": [
    "########################  Variable Importance  ########################\n",
    "\n",
    "# Plot the variable importantance\n",
    "# First we consider only first split\n",
    "imp1 <- variable_importance(forest1, max.depth = 1)\n",
    "print(cbind(colnames(x_2006[,imp1>0.02]),imp1[imp1>0.02]))\n",
    "\n",
    "# Now we consider the first four splits\n",
    "imp2 <- round(variable_importance(forest1, decay.exponent = 2, max.depth = 4), digits = 3)\n",
    "print(cbind(colnames(x_2006[,imp2>0.02]),imp2[imp2>0.02]))\n",
    "\n",
    "########################################################################"
   ]
  },
  {
   "cell_type": "markdown",
   "metadata": {},
   "source": [
    "**d) Use the forest to predict the online spendings in the test sample. Evaluate the\n",
    "performance of the random forest using the $\\mathbf{R^2}$.**"
   ]
  },
  {
   "cell_type": "code",
   "execution_count": null,
   "metadata": {},
   "outputs": [],
   "source": [
    "########################  Out-of-Sample Performance  ########################\n",
    "\n",
    "# Prediction\n",
    "fit <- predict(???, newdata = x_2006[-training_set,])$predictions\n",
    "\n",
    "# R-squared\n",
    "SST <- mean(((log_y_2006[-training_set,])-mean((log_y_2006[-training_set,])))^2)\n",
    "MSE1 <- mean(((log_y_2006[-training_set,])-fit)^2)\n",
    "r2_1 <-  round(1- MSE1/SST, digits = 3) \n",
    "print(paste0(\"Test sample R-squared: \", r2_1))\n",
    "\n",
    "#############################################################################"
   ]
  },
  {
   "cell_type": "markdown",
   "metadata": {},
   "source": [
    "**e) Draw an area under the curve (AUC) graph with regard to the number of trees in\n",
    "the forest.**"
   ]
  },
  {
   "cell_type": "code",
   "execution_count": null,
   "metadata": {},
   "outputs": [],
   "source": [
    "########################  Area Under the Curve (AUC)  ########################\n",
    "\n",
    "sizes <- c(1000,500,400,300, 200, 100, 50, 40,30,20,10, 5,4,3,2,1) # Select a grid of sample sizes\n",
    "# Prepare matrix to store results\n",
    "auc <- matrix(NA, nrow = length(sizes), ncol = 2)\n",
    "colnames(auc) <- c(\"Trees\", \"AUC\")\n",
    "auc[,1] <- sizes\n",
    "# Sum of Squares Total\n",
    "SST <- mean(((log_y_2006[-training_set,])-(mean(log_y_2006[-training_set,])))^2)\n",
    "\n",
    "set.seed(10001) # set starting value\n",
    "for (t in sizes){\n",
    "  # Estimate Forests\n",
    "  forest <- regression_forest(x_2006[training_set,],(log_y_2006[training_set,]), mtry = floor(cov*ncol(x_2006)),\n",
    "                              sample.fraction = frac, num.trees = t, min.node.size = min_obs, honesty=FALSE)\n",
    "  fit <- predict(forest, newdata = x_2006[-training_set,])$predictions # prediction in test sample\n",
    "  auc[auc[,1]== t,2] <- 1- mean(((log_y_2006[-training_set,])-fit)^2)/SST # store R-squared\n",
    "}\n",
    "\n",
    "# Marginal AUC\n",
    "plot(auc[,1],auc[,2],type = \"o\",xlab=\"Trees\", ylab= \"R-squared\", main = \"AUC\")\n",
    "\n",
    "\n",
    "################################################################################"
   ]
  },
  {
   "cell_type": "markdown",
   "metadata": {},
   "source": [
    "**f) Build a forest with smaller min.node.size (= 5) and test if this improves the $\\mathbf{R^2}$\n",
    "in the test sample.**"
   ]
  },
  {
   "cell_type": "code",
   "execution_count": null,
   "metadata": {},
   "outputs": [],
   "source": [
    "########################  Deep Forest  ########################\n",
    "\n",
    "min_obs <- 5\n",
    "# Build Forest\n",
    "forest2 <- regression_forest(x_2006[training_set,],log_y_2006[training_set,], \n",
    "                            ???)\n",
    "\n",
    "# Prediction\n",
    "fit <- predict(forest2, newdata = x_2006[-training_set,])$predictions\n",
    "\n",
    "# R-squared\n",
    "SST <- mean((log_y_2006[-training_set,]-mean(log_y_2006[-training_set,]))^2)\n",
    "MSE2 <- mean((log_y_2006[-training_set,]-fit)^2)\n",
    "r2_2 <-  round(1- MSE2/SST, digits = 3)\n",
    "print(cbind(r2_1,r2_2))\n",
    "\n",
    "# Plot tree\n",
    "tree <- get_tree(forest2, 34)\n",
    "plot(tree)\n",
    "\n",
    "###############################################################"
   ]
  },
  {
   "cell_type": "markdown",
   "metadata": {},
   "source": [
    "**g) Use the data browser new.csv, which contains the browsing behaviour of new potential customers. Predict the online spending in the new data using the prediction\n",
    "model that performs best in the test sample. Download the id's and the predicted spendings of the new customers in a csv-file. These predictions might help you to\n",
    "target marketing campaigns at the new potential customers with the highest (or\n",
    "lowest) expected online spending.**"
   ]
  },
  {
   "cell_type": "code",
   "execution_count": null,
   "metadata": {},
   "outputs": [],
   "source": [
    "########################  Store Prediction for Hold-out-Sample  ########################\n",
    "\n",
    "# Hold-out-Sample Prediction\n",
    "fit_new <- predict(???, newdata = x_new)$predictions\n",
    "\n",
    "results <- as.matrix(cbind(id_new,fit_new)) # store ID's and predictions in oine matrix\n",
    "colnames(results) <- c(\"id\",\"predictions\") # label columns\n",
    "\n",
    "# Store results\n",
    "write.csv(results, \"predictions.csv\")\n",
    "\n",
    "print('Results for the hold-out-sample stored.')\n",
    "\n",
    "#########################################################################################"
   ]
  },
  {
   "cell_type": "markdown",
   "metadata": {},
   "source": [
    "**Useful links:**\n",
    "\n",
    "* A description of the rpart package is here: [https://cran.r-project.org/web/packages/rpart/rpart.pdf](https://cran.r-project.org/web/packages/rpart/rpart.pdf).\n",
    "*  A description of the grf package is here: [https://cran.r-project.org/web/packages/grf/grf.pdf](https://cran.r-project.org/web/packages/grf/grf.pdf)."
   ]
  }
 ],
 "metadata": {
  "kernelspec": {
   "display_name": "R",
   "language": "R",
   "name": "ir"
  },
  "language_info": {
   "codemirror_mode": "r",
   "file_extension": ".r",
   "mimetype": "text/x-r-source",
   "name": "R",
   "pygments_lexer": "r",
   "version": "3.6.1"
  }
 },
 "nbformat": 4,
 "nbformat_minor": 4
}
