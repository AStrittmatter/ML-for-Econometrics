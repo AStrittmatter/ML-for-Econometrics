{
 "cells": [
  {
   "cell_type": "markdown",
   "metadata": {},
   "source": [
    "   # Post-Double-Selection Procedure"
   ]
  },
  {
   "cell_type": "markdown",
   "metadata": {},
   "source": [
    "Author: [Anthony Strittmatter](https://www.anthonystrittmatter.com/)"
   ]
  },
  {
   "cell_type": "markdown",
   "metadata": {},
   "source": [
    "The Job Corps is the largest U.S. labor market program targeting disadvantaged youths. It  provides  academic, vocational, and  social training, as well as health care counseling and job search assistance, for an average duration of eight to nine months. Mathematica Policy Research carried out a randomized experiment with the Job Corps. About 60% of the experimental participants were randomly selected to receive an offer to participatein the Job Corps. Out of these, 73% joined the Job Corps program and actually started to participate after an average duration of 1.4 months. The remaining experimental \n",
    "participants were assigned to the control group. Control group members were not eligible for the Job Corps programs for three years following randomization (approximately 1% participated anyway).\n",
    "\n",
    "We estimate the effects of actually participating in the Job Corps on earnings fours years after the randomization. The experimental Job Corps data job_corps.csv contains 10,516 observations.\n",
    "\n",
    "**Variable list :** \n",
    "\n",
    "* **EARNY4**: Earnings per week in Year 4\n",
    "* **assignment**: Dummy for randomized offer to join Job Corps\n",
    "* **participation**: Dummy for actual participation in Job Corps\n",
    "* **female**: Dummy for females\n",
    "* **age1**: Aged between 16-17 years\n",
    "* **age2**: Aged between 18-19 years\n",
    "* **age3**: Aged between 20-24 years\n",
    "* **ed_06**: 0-6 months education program in last year prior experiment\n",
    "* **ed_612**: 6-12 months education program in last year pror experiment\n",
    "* **hs_ged**: High school or GED credential (general educational development test)\n",
    "* **white**: Dummy for white ethnicity\n",
    "* **black**: Dummy for African-American ethnicity\n",
    "* **hisp**: Dummy for Hispanic ethnicity\n",
    "* **oth_eth**: Dummy for other ethnicity\n",
    "* **haschld**: Dummy for parents\n",
    "* **livespou**: Lives with spouse or partner\n",
    "* **everwork**: Ever had job for two weeks or more\n",
    "* **yr_work**: Worked in year prior to random assignment\n",
    "* **currjob**: Has job at random assignment\n",
    "* **job0_3**: Below 3 months employed in last year\n",
    "* **job3_9**: 3-9 months employed in last year\n",
    "* **job9_12**: 9-12 months employed in last year\n",
    "* **earn1**: Yearly earnings less than \\$1'000 prior experiment \n",
    "* **earn2**: Yearly earnings \\$1'000-5'000 prior experiment \n",
    "* **earn3**: Yearly earnings \\$5'000-10'000 prior experiment \n",
    "* **earn4**: Yearly earnings above \\$10'000 prior experiment \n",
    "* **badhlth**: Dummy for bad health\n",
    "* **welf_kid**: Family on welfare when growing up\n",
    "* **got_fs**: Received food stamps in last year\n",
    "* **publich**: Public or rent-subsidized housing\n",
    "* **got_afdc**: Received AFDC (aid for families with dependent children) in last year\n",
    "* **harduse**: Used hard drugs in last year\n",
    "* **potuse**: Smoked marijuana in last year\n",
    "* **evarrst**: Ever arrested dummy\n",
    "* **pmsa**: Lives in PMSA (primary metropolitan statistical area)\n",
    "* **msa**: Lives in MSA (metropolitan statistical area)\n",
    "\n",
    "Load the data job_corps.csv. If necessary, install the packages hdm, glmnet, tidyverse, AER, lmtest, sandwich, and fBasics.\n",
    " "
   ]
  },
  {
   "cell_type": "markdown",
   "metadata": {},
   "source": [
    "# Load Packages and the Data"
   ]
  },
  {
   "cell_type": "code",
   "execution_count": 1,
   "metadata": {},
   "outputs": [
    {
     "name": "stderr",
     "output_type": "stream",
     "text": [
      "Loading required package: timeDate\n",
      "Loading required package: timeSeries\n",
      "Loading required package: Matrix\n",
      "Loaded glmnet 4.1\n",
      "-- Attaching packages --------------------------------------- tidyverse 1.3.0 --\n",
      "v ggplot2 3.3.3     v purrr   0.3.4\n",
      "v tibble  3.0.6     v dplyr   1.0.4\n",
      "v tidyr   1.1.2     v stringr 1.4.0\n",
      "v readr   1.3.1     v forcats 0.4.0\n",
      "-- Conflicts ------------------------------------------ tidyverse_conflicts() --\n",
      "x tidyr::expand() masks Matrix::expand()\n",
      "x dplyr::filter() masks timeSeries::filter(), stats::filter()\n",
      "x dplyr::lag()    masks timeSeries::lag(), stats::lag()\n",
      "x tidyr::pack()   masks Matrix::pack()\n",
      "x tidyr::unpack() masks Matrix::unpack()\n",
      "Loading required package: car\n",
      "Loading required package: carData\n",
      "\n",
      "Attaching package: 'car'\n",
      "\n",
      "The following object is masked from 'package:dplyr':\n",
      "\n",
      "    recode\n",
      "\n",
      "The following object is masked from 'package:purrr':\n",
      "\n",
      "    some\n",
      "\n",
      "The following object is masked from 'package:fBasics':\n",
      "\n",
      "    densityPlot\n",
      "\n",
      "Loading required package: lmtest\n",
      "Loading required package: zoo\n",
      "\n",
      "Attaching package: 'zoo'\n",
      "\n",
      "The following object is masked from 'package:timeSeries':\n",
      "\n",
      "    time<-\n",
      "\n",
      "The following objects are masked from 'package:base':\n",
      "\n",
      "    as.Date, as.Date.numeric\n",
      "\n",
      "Loading required package: sandwich\n",
      "Loading required package: survival\n"
     ]
    },
    {
     "name": "stdout",
     "output_type": "stream",
     "text": [
      "[1] \"All packages successfully installed and loaded.\"\n",
      "[1] \"Data successfully loaded.\"\n"
     ]
    }
   ],
   "source": [
    "##############################################################################\n",
    "########################  Load Packages and the Data  ########################\n",
    "##############################################################################\n",
    "\n",
    "options(warn=-1)     # supress warnings\n",
    "\n",
    "### Load the packages  \n",
    "library(fBasics)     # use for descriptive statistics\n",
    "library(glmnet)      # use for lasso and Elastic Net regularized Generalized Linear Models\n",
    "library(tidyverse)   # use for handling data\n",
    "library(AER)         # use for IV\n",
    "library(lmtest)      # use for heteroscedasticity robust standard errors\n",
    "library(sandwich)    # use for heteroscedasticity robust standard errors\n",
    "library(hdm)         # use for Lasso and Post-Double-Selection\n",
    "\n",
    "\n",
    "print('All packages successfully installed and loaded.')\n",
    "\n",
    "### Load the Data\n",
    "df <- read.csv(\"job_corps.csv\",header=TRUE, sep=\",\")\n",
    "print('Data successfully loaded.')\n",
    "\n",
    "########################################################################"
   ]
  },
  {
   "cell_type": "markdown",
   "metadata": {},
   "source": [
    "# Descriptive Statistics"
   ]
  },
  {
   "cell_type": "code",
   "execution_count": 2,
   "metadata": {},
   "outputs": [
    {
     "name": "stdout",
     "output_type": "stream",
     "text": [
      "                Mean  Stdev Minimum Maximum  nobs\n",
      "EARNY4        204.44 195.69       0 2409.91 10516\n",
      "assignment      0.60   0.49       0    1.00 10516\n",
      "participation   0.44   0.50       0    1.00 10516\n",
      "female          0.43   0.49       0    1.00 10516\n",
      "age_1           0.41   0.49       0    1.00 10516\n",
      "age_2           0.31   0.46       0    1.00 10516\n",
      "age_3           0.27   0.45       0    1.00 10516\n",
      "ed0_6           0.26   0.44       0    1.00 10516\n",
      "ed6_12          0.36   0.48       0    1.00 10516\n",
      "hs_ged          0.24   0.43       0    1.00 10516\n",
      "white           0.26   0.44       0    1.00 10516\n",
      "black           0.49   0.50       0    1.00 10516\n",
      "hisp            0.17   0.38       0    1.00 10516\n",
      "oth_eth         0.07   0.26       0    1.00 10516\n",
      "haschld         0.20   0.40       0    1.00 10516\n",
      "livespou        0.06   0.24       0    1.00 10516\n",
      "everwork        0.80   0.40       0    1.00 10516\n",
      "yr_work         0.64   0.48       0    1.00 10516\n",
      "currjob         0.21   0.40       0    1.00 10516\n",
      "job0_3          0.22   0.41       0    1.00 10516\n",
      "job3_9          0.30   0.46       0    1.00 10516\n",
      "job9_12         0.21   0.41       0    1.00 10516\n",
      "earn1           0.11   0.31       0    1.00 10516\n",
      "earn2           0.27   0.44       0    1.00 10516\n",
      "earn3           0.14   0.34       0    1.00 10516\n",
      "earn4           0.07   0.25       0    1.00 10516\n",
      "badhlth         0.13   0.34       0    1.00 10516\n",
      "welf_kid        0.20   0.40       0    1.00 10516\n",
      "got_fs          0.45   0.50       0    1.00 10516\n",
      "publich         0.22   0.41       0    1.00 10516\n",
      "got_afdc        0.31   0.46       0    1.00 10516\n",
      "harduse         0.06   0.24       0    1.00 10516\n",
      "potuse          0.24   0.43       0    1.00 10516\n",
      "evarrst         0.24   0.43       0    1.00 10516\n",
      "pmsa            0.32   0.47       0    1.00 10516\n",
      "msa             0.47   0.50       0    1.00 10516\n"
     ]
    }
   ],
   "source": [
    "##########################################################################\n",
    "########################  Descriptive Statistics  ########################\n",
    "##########################################################################\n",
    "\n",
    "## Table with Descriptive Statistics \n",
    "desc <- fBasics::basicStats(df) %>% t() %>% as.data.frame() %>% \n",
    "  select(Mean, Stdev, Minimum, Maximum, nobs)\n",
    "print(round(desc, digits=2))\n",
    "\n",
    "########################################################################"
   ]
  },
  {
   "cell_type": "markdown",
   "metadata": {},
   "source": [
    "There are no missings (see last column *nobs*). All variables (excluding earnings) are binary dummies."
   ]
  },
  {
   "cell_type": "markdown",
   "metadata": {},
   "source": [
    "# Univariate OLS Regression"
   ]
  },
  {
   "cell_type": "markdown",
   "metadata": {},
   "source": [
    "We want to estimate the causal effect of participation in Job Corps on earnings. For this purpose, we estimate the univariate linear regression model,\n",
    "\n",
    "\\begin{equation*}\n",
    "EARNY4 = \\gamma + \\delta \\cdot participation +u.\n",
    "\\end{equation*}\n",
    "\n",
    "**Questions:**\n",
    "\n",
    "1. How large is the effect of participation in Job Corps on earnings?\n",
    "2. What is the main assumtpion we have to make to interprete this effect in a causal way?\n",
    "3. How credible is the identifying assumption in this application?\n",
    "4. Can we improve the credibility of the identification strategy using observable exogeneous charactersitics $X$?"
   ]
  },
  {
   "cell_type": "code",
   "execution_count": 3,
   "metadata": {},
   "outputs": [
    {
     "data": {
      "text/plain": [
       "\n",
       "Call:\n",
       "lm(formula = EARNY4 ~ participation, data = df)\n",
       "\n",
       "Residuals:\n",
       "    Min      1Q  Median      3Q     Max \n",
       "-211.44 -168.41  -25.03  101.08 2210.97 \n",
       "\n",
       "Coefficients:\n",
       "              Estimate Std. Error t value Pr(>|t|)    \n",
       "(Intercept)    198.936      2.550  78.023  < 2e-16 ***\n",
       "participation   12.503      3.842   3.254  0.00114 ** \n",
       "---\n",
       "Signif. codes:  0 '***' 0.001 '**' 0.01 '*' 0.05 '.' 0.1 ' ' 1\n",
       "\n",
       "Residual standard error: 195.6 on 10514 degrees of freedom\n",
       "Multiple R-squared:  0.001006,\tAdjusted R-squared:  0.0009111 \n",
       "F-statistic: 10.59 on 1 and 10514 DF,  p-value: 0.001141\n"
      ]
     },
     "metadata": {},
     "output_type": "display_data"
    },
    {
     "name": "stdout",
     "output_type": "stream",
     "text": [
      "           Univariate OLS\n",
      "Estimate            12.50\n",
      "Std. Error           3.84\n",
      "Pr(>|t|)             0.00\n"
     ]
    }
   ],
   "source": [
    "#########################################################################\n",
    "########################  Univariate OLS Regression #####################\n",
    "#########################################################################\n",
    "\n",
    "## Univariate OLS\n",
    "ols1 <- lm(EARNY4 ~ participation, data = df)\n",
    "summary(ols1)\n",
    "\n",
    "## Store results\n",
    "results <- as.matrix(coef(summary(ols1))[2, c(\"Estimate\", \"Std. Error\", \"Pr(>|t|)\")])\n",
    "labels <- c(\"Univariate OLS\")\n",
    "colnames(results) <- labels\n",
    "print(round(results, digits=2))\n",
    "\n",
    "########################################################################"
   ]
  },
  {
   "cell_type": "markdown",
   "metadata": {},
   "source": [
    "**Answers:**\n",
    "\n",
    "1. The estimation results suggest that participation in Job Corps increased weekly earnings by 12.50 Dollars four years after the experiment.\n",
    "2. The main identifying assumptions is the error term $u$ is independent of $participation$, $E[u|participation =1] = E[u|participation =0]$. Additionally, we have to make the stable unit treatment valua assumption (SUTVA) and common support. The SUTVA excludes spillover and general equilibrium effects. The common support assumption can be tested and is valid in this application. However, both assumptions are not the focus of this tutorial.\n",
    "3. The offer to participate in Job Corps was randomized in the experiment. However, actual participation was not randomized. Individuals could self-select based on preferences or expected returns to training into participation in the Job Corps program. This could create selection bias. Accordingly, the main identifying assumption is not credible. For example, those individuals with good labor market persectives could be overrepresented among the participants. This could lead to a negative selection bias,  if the effect of participation is neatively corrleated with labor market perspectives.\n",
    "4. We could increase the credibility of the identification strategy by conditioning on exogeneous confounders $X$. This are observable characteristics which have a joint impact on earnings and the probability to participate in the Job Corps program. We could relax the aformentioned independence assumption to $E[u|participation =1,X] = E[u|participation =0,X]$."
   ]
  },
  {
   "cell_type": "markdown",
   "metadata": {},
   "source": [
    "# Multivariate OLS Regression"
   ]
  },
  {
   "cell_type": "markdown",
   "metadata": {},
   "source": [
    "Now we estimate the multivariate linear regression model,\n",
    "\n",
    "\\begin{equation*}\n",
    "EARNY4 = \\gamma + \\delta \\cdot participation + \\beta \\cdot X + u.\n",
    "\\end{equation*}\n",
    "\n",
    "The main identifying assumption $E[u|participation =1,X] = E[u|participation =0,X]$ is weaker than for the univariate model. But we have to assume additionally effect homogeneity, i.e., the effect of participation in Job Corps on earnings is equal for all individuals. We could relax this assumption by including interaction terms between $participation$ and $X$, but this would make the model more complicated and difficult to interpret."
   ]
  },
  {
   "cell_type": "markdown",
   "metadata": {},
   "source": [
    "### QUESTION: HOW TO SELECT THE CONTROL VARIABLES $X$?\n",
    "\n"
   ]
  },
  {
   "cell_type": "markdown",
   "metadata": {},
   "source": [
    "Ideas to select control variables:\n",
    "\n",
    "1. Standardized differences\n",
    "2. Domain knowledge\n",
    "3. Kitchen sink"
   ]
  },
  {
   "cell_type": "markdown",
   "metadata": {},
   "source": [
    "**Idea 1 (Standardized Differences):** Compare the difference in the observable characteristics between the groups of participants and non-participants. Characteristics which differ greatly between the two groups appear to be important control variables."
   ]
  },
  {
   "cell_type": "code",
   "execution_count": 4,
   "metadata": {},
   "outputs": [
    {
     "name": "stdout",
     "output_type": "stream",
     "text": [
      "         D=1 Mean D=1 Std.Dev. D=0 Mean D=0 Std.Dev. Std.Diff.\n",
      "female       0.43         0.50     0.42         0.49      1.80\n",
      "age_1        0.43         0.50     0.40         0.49      7.54\n",
      "age_2        0.31         0.46     0.32         0.47      2.94\n",
      "age_3        0.26         0.44     0.28         0.45      5.28\n",
      "ed0_6        0.27         0.44     0.26         0.44      0.83\n",
      "ed6_12       0.37         0.48     0.35         0.48      3.90\n",
      "hs_ged       0.22         0.42     0.25         0.43      5.56\n",
      "white        0.26         0.44     0.27         0.44      2.36\n",
      "black        0.50         0.50     0.49         0.50      2.07\n",
      "hisp         0.17         0.38     0.17         0.38      0.25\n",
      "oth_eth      0.07         0.26     0.07         0.26      0.38\n",
      "haschld      0.19         0.39     0.21         0.40      5.09\n",
      "livespou     0.05         0.22     0.07         0.26      9.14\n",
      "everwork     0.79         0.41     0.80         0.40      2.00\n",
      "yr_work      0.64         0.48     0.65         0.48      1.28\n",
      "currjob      0.21         0.40     0.20         0.40      0.58\n",
      "job0_3       0.22         0.41     0.22         0.42      0.49\n",
      "job3_9       0.31         0.46     0.30         0.46      0.54\n",
      "job9_12      0.21         0.41     0.22         0.41      2.05\n",
      "earn1        0.11         0.31     0.11         0.31      0.35\n",
      "earn2        0.28         0.45     0.27         0.44      2.40\n",
      "earn3        0.13         0.34     0.14         0.35      1.96\n",
      "earn4        0.06         0.24     0.07         0.25      3.47\n",
      "badhlth      0.12         0.33     0.14         0.34      3.73\n",
      "welf_kid     0.20         0.40     0.20         0.40      0.30\n",
      "got_fs       0.44         0.50     0.45         0.50      2.46\n",
      "publich      0.23         0.42     0.21         0.41      4.34\n",
      "got_afdc     0.31         0.46     0.31         0.46      0.80\n",
      "harduse      0.06         0.24     0.06         0.24      0.74\n",
      "potuse       0.25         0.43     0.24         0.43      1.54\n",
      "evarrst      0.23         0.42     0.26         0.44      5.59\n",
      "pmsa         0.32         0.47     0.32         0.47      0.77\n",
      "msa          0.46         0.50     0.47         0.50      0.26\n"
     ]
    }
   ],
   "source": [
    "########################################################################\n",
    "########################  Standardized Differences #####################\n",
    "########################################################################\n",
    "\n",
    "## Means and standard deviations for the participants (D=1)\n",
    "desc_1 <- fBasics::basicStats(df[df$participation==1,]) %>% t() %>% as.data.frame() %>% select(Mean, Stdev)\n",
    "\n",
    "## Means and standard deviations for the non-participants (D=0)\n",
    "desc_0 <- fBasics::basicStats(df[df$participation==0,]) %>% t() %>% as.data.frame() %>% select(Mean, Stdev)\n",
    "\n",
    "# Make table and add standardized differences\n",
    "desc <- cbind(desc_1[-c(1:3),],desc_0[-c(1:3),], \n",
    "        100*abs(desc_1[-c(1:3),1]-desc_0[-c(1:3),1])/sqrt(0.5*(desc_1[-c(1:3),2]^2+desc_0[-c(1:3),2]^2)))\n",
    "colnames(desc) <- c(\"D=1 Mean\", \"D=1 Std.Dev.\", \"D=0 Mean\", \"D=0 Std.Dev.\", \"Std.Diff.\")\n",
    "print(round(desc, digits=2))\n",
    "\n",
    "########################################################################"
   ]
  },
  {
   "cell_type": "markdown",
   "metadata": {},
   "source": [
    "The standardized differences ($SD$) are defined as\n",
    "\n",
    "$SD = 100 \\displaystyle \\cdot \\frac{|\\bar{X}_1 - \\bar{X}_0|}{\\sqrt{1/2 \\cdot (\\sigma_{X1}^2+\\sigma_{X0}^2)}}$\n",
    "\n",
    "where $\\bar{X}_1$ and $\\bar{X}_0$ are the means and $\\sigma_{X1}$ and $\\sigma_{X0}$ the standard deviations in the groups of participants and non-participants, respectively. Large standardized differences indicate a large inbalance between participants and non-participants.\n",
    "\n",
    "\n",
    "We observe that older people and individuals who have a child or live with their spouse are less likely to participate in Job Corps. Accordingly, this might be important confounders. "
   ]
  },
  {
   "cell_type": "code",
   "execution_count": 5,
   "metadata": {},
   "outputs": [
    {
     "data": {
      "text/plain": [
       "\n",
       "Call:\n",
       "lm(formula = EARNY4 ~ participation + age_1 + age_3 + haschld + \n",
       "    livespou, data = df)\n",
       "\n",
       "Residuals:\n",
       "    Min      1Q  Median      3Q     Max \n",
       "-263.65 -159.51  -18.51   97.11 2200.32 \n",
       "\n",
       "Coefficients:\n",
       "              Estimate Std. Error t value Pr(>|t|)    \n",
       "(Intercept)    209.587      3.892  53.849  < 2e-16 ***\n",
       "participation   13.880      3.818   3.635 0.000279 ***\n",
       "age_1          -31.136      4.512  -6.901 5.47e-12 ***\n",
       "age_3           28.326      5.041   5.619 1.96e-08 ***\n",
       "haschld        -34.987      5.036  -6.948 3.94e-12 ***\n",
       "livespou        11.854      7.977   1.486 0.137288    \n",
       "---\n",
       "Signif. codes:  0 '***' 0.001 '**' 0.01 '*' 0.05 '.' 0.1 ' ' 1\n",
       "\n",
       "Residual standard error: 194.1 on 10510 degrees of freedom\n",
       "Multiple R-squared:  0.01708,\tAdjusted R-squared:  0.01661 \n",
       "F-statistic: 36.52 on 5 and 10510 DF,  p-value: < 2.2e-16\n"
      ]
     },
     "metadata": {},
     "output_type": "display_data"
    },
    {
     "name": "stdout",
     "output_type": "stream",
     "text": [
      "           Univariate OLS Multivariate OLS1\n",
      "Estimate            12.50             13.88\n",
      "Std. Error           3.84              3.82\n",
      "Pr(>|t|)             0.00              0.00\n",
      "[1] \"Relative change in the estimated effect: 11%\"\n"
     ]
    }
   ],
   "source": [
    "#########################################################################\n",
    "########################  Multivariate OLS Regression ###################\n",
    "#########################################################################\n",
    "\n",
    "## Multivariate OLS\n",
    "ols2 <- lm(EARNY4 ~ participation + age_1 + age_3 + haschld + livespou, data = df)\n",
    "summary(ols2)\n",
    "# Question: Why do we omit age_2?\n",
    "\n",
    "## Store results\n",
    "results <- as.matrix(cbind(results,coef(summary(ols2))[2, c(\"Estimate\", \"Std. Error\", \"Pr(>|t|)\")]))\n",
    "labels <- c(labels, \"Multivariate OLS1\")\n",
    "colnames(results) <-labels\n",
    "print(round(results, digits=2))\n",
    "\n",
    "## Relative change in the estimated effect\n",
    "print(paste0(\"Relative change in the estimated effect: \",round(100*(results[1,2]-results[1,1])/results[1,1], digits=1),\"%\"))\n",
    "\n",
    "########################################################################"
   ]
  },
  {
   "cell_type": "markdown",
   "metadata": {},
   "source": [
    "When controlling for age, children, living together with spouse, the estimated effect increases by 11\\%. Participation in Job Corps increases earnings by 13.84 Dollars."
   ]
  },
  {
   "cell_type": "markdown",
   "metadata": {},
   "source": [
    "**Idea 2 (Domain Knowledge):** We can select the control variables $X$ using economic theory, domain knowledge, or intuition. For example, Job Corp participants usually live on a campus during the program participation. Do you think having a child affects the participation probability of men and women equally? Has gender an impact on earnings? What can we conclude from these thoughts?\n",
    "\n",
    "Please specify an alternative model specification based on your economic intution below (replace *???*):"
   ]
  },
  {
   "cell_type": "code",
   "execution_count": 6,
   "metadata": {},
   "outputs": [
    {
     "data": {
      "text/plain": [
       "\n",
       "Call:\n",
       "lm(formula = EARNY4 ~ participation + age_1 + age_3 + haschld * \n",
       "    female + livespou, data = df)\n",
       "\n",
       "Residuals:\n",
       "    Min      1Q  Median      3Q     Max \n",
       "-287.57 -146.39  -20.45   95.97 2241.50 \n",
       "\n",
       "Coefficients:\n",
       "               Estimate Std. Error t value Pr(>|t|)    \n",
       "(Intercept)     233.485      4.157  56.164  < 2e-16 ***\n",
       "participation    14.937      3.771   3.962 7.50e-05 ***\n",
       "age_1           -32.515      4.456  -7.296 3.17e-13 ***\n",
       "age_3            25.972      4.979   5.216 1.87e-07 ***\n",
       "haschld         -13.463      8.409  -1.601   0.1094    \n",
       "female          -65.073      4.361 -14.923  < 2e-16 ***\n",
       "livespou         13.172      7.927   1.662   0.0966 .  \n",
       "haschld:female    1.346     10.229   0.132   0.8953    \n",
       "---\n",
       "Signif. codes:  0 '***' 0.001 '**' 0.01 '*' 0.05 '.' 0.1 ' ' 1\n",
       "\n",
       "Residual standard error: 191.6 on 10508 degrees of freedom\n",
       "Multiple R-squared:  0.04183,\tAdjusted R-squared:  0.04119 \n",
       "F-statistic: 65.54 on 7 and 10508 DF,  p-value: < 2.2e-16\n"
      ]
     },
     "metadata": {},
     "output_type": "display_data"
    },
    {
     "name": "stdout",
     "output_type": "stream",
     "text": [
      "           Univariate OLS Multivariate OLS1 Multivariate OLS2\n",
      "Estimate            12.50             13.88             14.94\n",
      "Std. Error           3.84              3.82              3.77\n",
      "Pr(>|t|)             0.00              0.00              0.00\n",
      "[1] \"Relative change in the estimated effect: 7.6%\"\n"
     ]
    }
   ],
   "source": [
    "#########################################################################\n",
    "\n",
    "## Multivariate OLS\n",
    "ols3 <- lm(EARNY4 ~ participation + age_1 + age_3 + haschld*female + livespou, data = df)\n",
    "summary(ols3)\n",
    "\n",
    "## Store results\n",
    "results <- as.matrix(cbind(results,coef(summary(ols3))[2, c(\"Estimate\", \"Std. Error\", \"Pr(>|t|)\")]))\n",
    "labels <- c(labels, \"Multivariate OLS2\")\n",
    "colnames(results) <-labels\n",
    "print(round(results, digits=2))\n",
    "\n",
    "## Relative change in the estimated effect\n",
    "print(paste0(\"Relative change in the estimated effect: \",round(100*(results[1,3]-results[1,2])/results[1,2], digits=1),\"%\"))\n",
    "\n",
    "########################################################################"
   ]
  },
  {
   "cell_type": "markdown",
   "metadata": {},
   "source": [
    "The estimated effect of participation on earnings increases by 7.6\\% to 14.94 Dollars."
   ]
  },
  {
   "cell_type": "markdown",
   "metadata": {},
   "source": [
    "**Idea 3 (Kitchen Sink):** Based on our previous results, we could argue that it is best to control for everything available (brute force). This includes all exogeneous baseline characteristics as well as interaction terms."
   ]
  },
  {
   "cell_type": "code",
   "execution_count": 7,
   "metadata": {},
   "outputs": [
    {
     "name": "stdout",
     "output_type": "stream",
     "text": [
      "[1] \"Number of interaction terms: 465\"\n",
      "[1] \"Total number of control variables: 496\"\n",
      "           Univariate OLS Multivariate OLS1 Multivariate OLS2 Multivariate OLS3\n",
      "Estimate            12.50             13.88             14.94             16.09\n",
      "Std. Error           3.84              3.82              3.77              3.68\n",
      "Pr(>|t|)             0.00              0.00              0.00              0.00\n",
      "[1] \"Relative change in the estimated effect: 7.7%\"\n"
     ]
    }
   ],
   "source": [
    "###############################################################################\n",
    "\n",
    "## Generate first-order interactions between all control variables\n",
    "interactions <- t(apply(df[,-c(1,2,3,6,11)], 1, combn, 2, prod))\n",
    "colnames(interactions) <- paste(\"Inter.V\", combn(1:ncol(df[,-c(1,2,3,6,11)]), 2, paste, collapse=\"V\"), sep=\"\")\n",
    "print(paste0(\"Number of interaction terms: \", ncol(interactions)))\n",
    "\n",
    "## Merge basline characteristics with interaction terms\n",
    "df_int <- as.data.frame(cbind(df[,-c(2,6,11)], interactions))\n",
    "print(paste0(\"Total number of control variables: \", ncol(df_int)-2))\n",
    "\n",
    "## Multivariate OLS with all baseline characteristics and interaction terms\n",
    "ols4 <- lm(EARNY4 ~ ., data = df_int)\n",
    "\n",
    "## Store results\n",
    "results <- as.matrix(cbind(results,coef(summary(ols4))[2, c(\"Estimate\", \"Std. Error\", \"Pr(>|t|)\")]))\n",
    "labels <- c(labels, \"Multivariate OLS3\")\n",
    "colnames(results) <-labels\n",
    "print(round(results, digits=2))\n",
    "\n",
    "## Relative change in the estimated effect\n",
    "print(paste0(\"Relative change in the estimated effect: \",round(100*(results[1,4]-results[1,3])/results[1,3], digits=1),\"%\"))\n",
    "\n",
    "########################################################################"
   ]
  },
  {
   "cell_type": "markdown",
   "metadata": {},
   "source": [
    "The estimated effect of Job Corp participation on earnings increases by another 7.7\\% to 16.09 Dollars. Compared to the univariate OLS results, the effect increases by 28.7\\%."
   ]
  },
  {
   "cell_type": "markdown",
   "metadata": {},
   "source": [
    "To bring it to an extreme, we generate now 5'000 random variables and add them to the model. We know that the estimated effect should not change when we add these variables, because they are independent of the participation decision and earnings."
   ]
  },
  {
   "cell_type": "code",
   "execution_count": 8,
   "metadata": {},
   "outputs": [
    {
     "name": "stdout",
     "output_type": "stream",
     "text": [
      "[1] \"Total number of control variables: 1496\"\n"
     ]
    }
   ],
   "source": [
    "###############################################################################\n",
    "\n",
    "# Set starting value for replicability (variables are randomly generated)\n",
    "set.seed(123456789) \n",
    "\n",
    "# Specify number of random variables\n",
    "cols <- 1000\n",
    "\n",
    "# Generate random variables\n",
    "redundant_x <- matrix(rnorm(nrow(df_int)*cols), nrow = nrow(df_int)) # We draw from a random standard normal distribution\n",
    "colnames(redundant_x) <- paste(\"Rand.\", 1:cols, sep=\"\")\n",
    "\n",
    "# Merge random variables with baseline characteritics and interaction terms\n",
    "df_red <- as.data.frame(cbind(df_int, redundant_x))\n",
    "print(paste0(\"Total number of control variables: \", ncol(df_red)-2))\n",
    "\n",
    "###############################################################################"
   ]
  },
  {
   "cell_type": "code",
   "execution_count": 9,
   "metadata": {},
   "outputs": [
    {
     "name": "stdout",
     "output_type": "stream",
     "text": [
      "           Univariate OLS Multivariate OLS1 Multivariate OLS2 Multivariate OLS3\n",
      "Estimate            12.50             13.88             14.94             16.09\n",
      "Std. Error           3.84              3.82              3.77              3.68\n",
      "Pr(>|t|)             0.00              0.00              0.00              0.00\n",
      "           Multivariate OLS4\n",
      "Estimate               17.33\n",
      "Std. Error              3.87\n",
      "Pr(>|t|)                0.00\n",
      "[1] \"Relative change in the estimated effect: 7.7%\"\n"
     ]
    }
   ],
   "source": [
    "###############################################################################\n",
    "\n",
    "## Multivariate OLS with all baseline characteristics, interaction terms, and random variables\n",
    "ols5 <- lm(EARNY4 ~ ., data = df_red)\n",
    "\n",
    "## Store results\n",
    "results <- as.matrix(cbind(results,coef(summary(ols5))[2, c(\"Estimate\", \"Std. Error\", \"Pr(>|t|)\")]))\n",
    "labels <- c(labels, \"Multivariate OLS4\")\n",
    "colnames(results) <-labels\n",
    "print(round(results, digits=2))\n",
    "\n",
    "## Relative change in the estimated effect\n",
    "print(paste0(\"Relative change in the estimated effect: \",round(100*(results[1,5]-results[1,4])/results[1,4], digits=1),\"%\"))\n",
    "\n",
    "########################################################################"
   ]
  },
  {
   "cell_type": "markdown",
   "metadata": {},
   "source": [
    "Adding these randomly generated variables to the model should not affect the estimated effect at all, because the randomly generated variables are no confounders by construction. However, the effect size increases by another 5.7\\% and the standard errors increase by more than 40\\%."
   ]
  },
  {
   "cell_type": "markdown",
   "metadata": {},
   "source": [
    "**Conclusions:**\n",
    "\n",
    "- Adding relevant confounders increases the credibility of the identifying strategy.\n",
    "- However, it is difficult to determine the relevant control variables. Often economic theory is ambiguous and gives no clear guidance.\n",
    "- Particularly, it is difficult to identify the relvant interaction terms.\n",
    "- Seemingly, an attractive approach is to use a kitchen sink regression. But this approach can lead to inprecise estimates, which might lead to larger finite sample biases than omitted variables.\n",
    "- We face a trade-off between bias (too parsimonious model) and variance (too flexible model and redundant control variables)."
   ]
  },
  {
   "cell_type": "markdown",
   "metadata": {},
   "source": [
    "# Post-Double-Selection Procedure"
   ]
  },
  {
   "cell_type": "markdown",
   "metadata": {},
   "source": [
    "The Lasso objective function is\n",
    "\n",
    "\\begin{equation*}\n",
    "\\min_{\\beta} \\left\\{ \\sum_{i=1}^{N} \\left( Y_i-  \\gamma -\\sum_{j=1}^{p}X_{ij}\\beta_j \\right)^2 + \\lambda \\sum_{j=1}^{p} |\\hat{l}_j \\beta_j| \\right\\}.\n",
    "\\end{equation*}\n",
    "where $p$ are the number of of characteristics. The Lasso minimizes the sum of squared residuals (similar to OLS), subject to a penalty on the absolute size of the coefficients $\\beta_j$. The penalty term $\\lambda \\geq 0$ enables to regulate the degree of penalization. When $\\lambda=0$, there is no penalization and the Lasso and OLS estimates are similar. When $\\lambda>0$, some coefficients are shrunken towards zero and eventually approach zero excatly. When $\\lambda$ is very large, all coefficients are zero, excluding the constant $\\gamma$. The constant term is not penalized. When the coefficient $\\beta_j$ is zero, this is equivalent to omit the corresponding characterstic $X_j$ from the model. Accordingly, the Lasso is a model selection device. \n",
    "\n",
    "An important tuning parameter is the penalty term $\\lambda$. We consider two alternative ways of specifying the $\\lambda$:\n",
    "\n",
    "1. [Belloni et al. (2012)](https://onlinelibrary.wiley.com/doi/abs/10.3982/ECTA9626) propose to use the theoretically derived optimal penalty term\n",
    "\\begin{equation*}\n",
    "\\displaystyle \\lambda = \\frac{2 c \\cdot \\Phi^{-1}\\left(\\frac{1-\\gamma}{2p} \\right)}{\\sqrt{N} }\n",
    "\\end{equation*}\n",
    "with the default values $c=1.1$ and $\\gamma = 0.1/log(N)$.\n",
    "\n",
    "2. Alteratively, we can use a cross-validation procedure the specify the optimal penalty term. We partition the sample into $k$ equally large folds and specify a grit of possible $\\lambda$ values (typically equispaced on a log-scale). We estimate the Lasso for a specific $\\lambda$ value in $k-1$ folds and extrapolate the fitted values to the retained fold. Then we calculate the model quality in the retained fold (e.g. using the MSE). We repeat this procedure k-times while alternating the retained fold. We calculate the average model quality across all folds. Then we repeat this procedure for all $\\lambda$ values on the grit. Finally, we select the $\\lambda$ value with the best average model quality. [Chetverikov, Liao, and Chernozhukov (2020)](https://arxiv.org/abs/1605.02214) provide the theoretical justification for the validty of this procedure.\n",
    "\n",
    "The penalty loadings $\\hat{l}_j$ can account for heteroskedasticity. For the standard Lasso we standardize all characteristics before the estimation and set the penalty loadings to one. Alternatively, [Belloni et al. (2012)](https://onlinelibrary.wiley.com/doi/abs/10.3982/ECTA9626) propose an iterative procedure to estimate the penalty loadings. When we use these penalty loading it is not required standardize the characteristics in the first place."
   ]
  },
  {
   "cell_type": "markdown",
   "metadata": {},
   "source": [
    "The post-double-selection (PDS) procedure of [Belloni, Chernozhukov, and Hansen (2014)](https://academic.oup.com/restud/article-abstract/81/2/608/1523757?redirectedFrom=fulltext) has three steps:\n",
    "\n",
    "1. Estimate the earnings equation $EARNY4 = \\gamma_1 + \\beta_1 \\cdot X + \\varepsilon$, excluding the participantion dummy, with Lasso.\n",
    "2. Estimate the participation probability $participation = \\gamma_2 + \\beta_2 \\cdot X + v$ with Lasso.\n",
    "3. Denote the union of all characteristics with non-zero coefficients in either $\\beta_1$ or $\\beta_2$ by $\\tilde{X}$. Estimate the Post-Lasso model \n",
    "\\begin{equation*}\n",
    "EARNY4 = \\gamma + \\delta \\cdot participation + \\beta \\cdot \\tilde{X} + u\n",
    "\\end{equation*}\n",
    "with OLS."
   ]
  },
  {
   "cell_type": "markdown",
   "metadata": {},
   "source": [
    "**Step 1:** Earnings Equation"
   ]
  },
  {
   "cell_type": "code",
   "execution_count": 10,
   "metadata": {},
   "outputs": [
    {
     "name": "stdout",
     "output_type": "stream",
     "text": [
      "\n",
      "Call:\n",
      "rlasso.default(x = as.matrix(df[, c(4:ncol(df))]), y = as.matrix(df$EARNY4), \n",
      "    penalty = list(homoscedastic = FALSE))\n",
      "\n",
      "Post-Lasso Estimation:  TRUE \n",
      "\n",
      "Total number of variables: 33\n",
      "Number of selected variables: 16 \n",
      "\n",
      "Residuals: \n",
      "    Min      1Q  Median      3Q     Max \n",
      "-384.45 -131.90  -19.95   90.80 2194.30 \n",
      "\n",
      "            Estimate\n",
      "(Intercept)  189.994\n",
      "female       -56.801\n",
      "age_1         -3.582\n",
      "age_2          0.000\n",
      "age_3          8.514\n",
      "ed0_6          0.000\n",
      "ed6_12         0.000\n",
      "hs_ged        29.675\n",
      "white         22.872\n",
      "black        -24.628\n",
      "hisp           0.000\n",
      "oth_eth        0.000\n",
      "haschld        0.000\n",
      "livespou       0.000\n",
      "everwork      12.135\n",
      "yr_work       41.323\n",
      "currjob       18.280\n",
      "job0_3         0.000\n",
      "job3_9         0.000\n",
      "job9_12        5.634\n",
      "earn1        -25.530\n",
      "earn2          0.000\n",
      "earn3         24.463\n",
      "earn4         64.541\n",
      "badhlth        0.000\n",
      "welf_kid     -12.330\n",
      "got_fs        -6.239\n",
      "publich        0.000\n",
      "got_afdc       0.000\n",
      "harduse        0.000\n",
      "potuse       -16.297\n",
      "evarrst        0.000\n",
      "pmsa           0.000\n",
      "msa            0.000\n",
      "\n",
      "Residual standard error: 185.5\n",
      "Multiple R-squared:  0.1018\n",
      "Adjusted R-squared:  0.1005\n",
      "Joint significance test:\n",
      " the sup score statistic for joint significance test is  1818 with a p-value of     0\n"
     ]
    }
   ],
   "source": [
    "###############################################################################\n",
    "################# Earnings Equation ######################\n",
    "###############################################################################\n",
    "\n",
    "# Predict earnings\n",
    "st1 <- rlasso(as.matrix(df[,c(4:ncol(df))]), as.matrix(df$EARNY4), penalty = list(homoscedastic = FALSE))\n",
    "summary(st1)\n",
    "\n",
    "# Store selected variables\n",
    "n1<- names(st1$coefficients[(st1$coefficients != 0) == TRUE])[-1]\n",
    "\n",
    "###############################################################################"
   ]
  },
  {
   "cell_type": "markdown",
   "metadata": {},
   "source": [
    "**Step 2:** Participation Probability"
   ]
  },
  {
   "cell_type": "code",
   "execution_count": 11,
   "metadata": {},
   "outputs": [
    {
     "name": "stdout",
     "output_type": "stream",
     "text": [
      "\n",
      "Call:\n",
      "rlasso.default(x = as.matrix(df[, c(4:ncol(df))]), y = as.matrix(df$participation), \n",
      "    penalty = list(homoscedastic = FALSE))\n",
      "\n",
      "Post-Lasso Estimation:  TRUE \n",
      "\n",
      "Total number of variables: 33\n",
      "Number of selected variables: 1 \n",
      "\n",
      "Residuals: \n",
      "    Min      1Q  Median      3Q     Max \n",
      "-0.4462 -0.4462 -0.4462  0.5538  0.6449 \n",
      "\n",
      "            Estimate\n",
      "(Intercept)    0.446\n",
      "female         0.000\n",
      "age_1          0.000\n",
      "age_2          0.000\n",
      "age_3          0.000\n",
      "ed0_6          0.000\n",
      "ed6_12         0.000\n",
      "hs_ged         0.000\n",
      "white          0.000\n",
      "black          0.000\n",
      "hisp           0.000\n",
      "oth_eth        0.000\n",
      "haschld        0.000\n",
      "livespou      -0.091\n",
      "everwork       0.000\n",
      "yr_work        0.000\n",
      "currjob        0.000\n",
      "job0_3         0.000\n",
      "job3_9         0.000\n",
      "job9_12        0.000\n",
      "earn1          0.000\n",
      "earn2          0.000\n",
      "earn3          0.000\n",
      "earn4          0.000\n",
      "badhlth        0.000\n",
      "welf_kid       0.000\n",
      "got_fs         0.000\n",
      "publich        0.000\n",
      "got_afdc       0.000\n",
      "harduse        0.000\n",
      "potuse         0.000\n",
      "evarrst        0.000\n",
      "pmsa           0.000\n",
      "msa            0.000\n",
      "\n",
      "Residual standard error: 0.496\n",
      "Multiple R-squared:  0.002016\n",
      "Adjusted R-squared:  0.001921\n",
      "Joint significance test:\n",
      " the sup score statistic for joint significance test is 0.9382 with a p-value of 0.048\n"
     ]
    }
   ],
   "source": [
    "###############################################################################\n",
    "#################### Participation Probability #####################\n",
    "###############################################################################\n",
    "\n",
    "# Predict participation\n",
    "st2 <- rlasso(as.matrix(df[,c(4:ncol(df))]), as.matrix(df$participation), penalty = list(homoscedastic = FALSE))\n",
    "summary(st2)\n",
    "\n",
    "# Store selected variables\n",
    "n2<- names(st2$coefficients[(st2$coefficients != 0) == TRUE])[-1]\n",
    "\n",
    "###############################################################################"
   ]
  },
  {
   "cell_type": "markdown",
   "metadata": {},
   "source": [
    "**Step 3:** Post-Lasso"
   ]
  },
  {
   "cell_type": "code",
   "execution_count": 12,
   "metadata": {},
   "outputs": [
    {
     "data": {
      "text/plain": [
       "\n",
       "Call:\n",
       "lm(formula = linear, data = df)\n",
       "\n",
       "Residuals:\n",
       "    Min      1Q  Median      3Q     Max \n",
       "-378.47 -132.12  -20.12   91.01 2201.29 \n",
       "\n",
       "Coefficients:\n",
       "              Estimate Std. Error t value Pr(>|t|)    \n",
       "(Intercept)    183.337      6.762  27.113  < 2e-16 ***\n",
       "participation   15.678      3.650   4.295 1.76e-05 ***\n",
       "female         -56.965      3.794 -15.015  < 2e-16 ***\n",
       "age_1           -4.133      4.565  -0.905 0.365348    \n",
       "age_3            8.685      4.931   1.761 0.078229 .  \n",
       "hs_ged          29.911      4.861   6.153 7.87e-10 ***\n",
       "white           23.023      5.167   4.456 8.44e-06 ***\n",
       "black          -24.811      4.509  -5.502 3.84e-08 ***\n",
       "everwork        12.168      6.236   1.951 0.051065 .  \n",
       "yr_work         41.219      5.878   7.013 2.48e-12 ***\n",
       "currjob         18.076      5.020   3.601 0.000319 ***\n",
       "job9_12          5.685      5.675   1.002 0.316465    \n",
       "earn1          -25.373      6.506  -3.900 9.68e-05 ***\n",
       "earn3           24.666      6.107   4.039 5.40e-05 ***\n",
       "earn4           65.047      8.651   7.519 5.99e-14 ***\n",
       "welf_kid       -12.366      4.794  -2.580 0.009903 ** \n",
       "got_fs          -5.893      3.945  -1.494 0.135292    \n",
       "potuse         -16.390      4.280  -3.830 0.000129 ***\n",
       "livespou        -2.070      7.570  -0.273 0.784519    \n",
       "---\n",
       "Signif. codes:  0 '***' 0.001 '**' 0.01 '*' 0.05 '.' 0.1 ' ' 1\n",
       "\n",
       "Residual standard error: 185.5 on 10497 degrees of freedom\n",
       "Multiple R-squared:  0.1034,\tAdjusted R-squared:  0.1019 \n",
       "F-statistic: 67.26 on 18 and 10497 DF,  p-value: < 2.2e-16\n"
      ]
     },
     "metadata": {},
     "output_type": "display_data"
    }
   ],
   "source": [
    "###############################################################################\n",
    "######################## Post-Lasso ####################\n",
    "###############################################################################\n",
    "\n",
    "# Take union of selected covariates\n",
    "selected_covariates <- c(\"participation\", unique(c(n1, n2)))\n",
    "\n",
    "# Setup the formula of the linear regression model\n",
    "sumx <- paste(selected_covariates, collapse = \" + \")  \n",
    "linear <- paste(\"EARNY4\",paste(sumx, sep=\" + \"), sep=\" ~ \")\n",
    "linear <- as.formula(linear)\n",
    "\n",
    "# Post-Lasso regression\n",
    "ols <- lm(linear, data = df)\n",
    "summary(ols)\n",
    "\n",
    "# Heteroskedasticity robust standard errors\n",
    "#coeftest(ols, vcov = vcovHC(ols, type = \"HC1\"))\n",
    "\n",
    "###############################################################################"
   ]
  },
  {
   "cell_type": "markdown",
   "metadata": {},
   "source": [
    "Participation in Job Corps increased weekly earnings by 15.68 Dollars four years after the experiment."
   ]
  },
  {
   "cell_type": "markdown",
   "metadata": {},
   "source": [
    "**Short-cut:** Estimate the Treatment Effect Directly"
   ]
  },
  {
   "cell_type": "code",
   "execution_count": 13,
   "metadata": {},
   "outputs": [
    {
     "data": {
      "text/plain": [
       "[1] \"Estimates and significance testing of the effect of target variables\"\n",
       "   Estimate. Std. Error t value Pr(>|t|)    \n",
       "d1    15.678      3.661   4.282 1.85e-05 ***\n",
       "---\n",
       "Signif. codes:  0 '***' 0.001 '**' 0.01 '*' 0.05 '.' 0.1 ' ' 1\n",
       "\n"
      ]
     },
     "metadata": {},
     "output_type": "display_data"
    }
   ],
   "source": [
    "###############################################################################\n",
    "############ Estimate the Treatment Effect Directly ##################\n",
    "###############################################################################\n",
    "\n",
    "# Post-Double-Selection Procedure \n",
    "dsp <- rlassoEffect(as.matrix(df[,c(4:ncol(df))]), as.matrix(df$EARNY4)\n",
    "          , as.matrix(df$participation), model = TRUE, penalty = list(homoscedastic = FALSE), method = \"double selection\")\n",
    "summary(dsp)"
   ]
  },
  {
   "cell_type": "markdown",
   "metadata": {},
   "source": [
    "**Question:** Why do the standard errors of the manualy and automatically estimated treatment effect differ?"
   ]
  },
  {
   "cell_type": "markdown",
   "metadata": {},
   "source": [
    "**Exercise:**\n",
    "\n",
    "Estimate the post-doube-selection procedure using all baseline charactersitics, interaction terms, and randomly generated variables. How large is the effect of Job Corps participation on earnings? Which baseline and interaction terms are relevant for the Post-Lasso model? Do you have an economic interpretation for the selected variables? Does the post-doube-selection procedure omit the randomly generated variables?"
   ]
  },
  {
   "cell_type": "code",
   "execution_count": 14,
   "metadata": {},
   "outputs": [
    {
     "data": {
      "text/plain": [
       "\n",
       "Call:\n",
       "lm(formula = linear, data = df_red)\n",
       "\n",
       "Residuals:\n",
       "    Min      1Q  Median      3Q     Max \n",
       "-386.37 -131.57  -20.83   92.46 2159.74 \n",
       "\n",
       "Coefficients:\n",
       "               Estimate Std. Error t value Pr(>|t|)    \n",
       "(Intercept)    189.1367     5.2034  36.348  < 2e-16 ***\n",
       "participation   15.5914     3.6445   4.278 1.90e-05 ***\n",
       "female         -55.9513     5.7300  -9.765  < 2e-16 ***\n",
       "black          -22.3494     4.8730  -4.586 4.56e-06 ***\n",
       "everwork        11.4068     6.2661   1.820 0.068729 .  \n",
       "yr_work         40.9429     5.8469   7.002 2.67e-12 ***\n",
       "currjob         17.1494     5.0291   3.410 0.000652 ***\n",
       "job9_12       -139.4013   185.2433  -0.753 0.451749    \n",
       "Inter.V1V2       2.3368     6.7338   0.347 0.728582    \n",
       "Inter.V1V15    -15.8663     8.5924  -1.847 0.064841 .  \n",
       "Inter.V1V18    -23.4954    10.4878  -2.240 0.025095 *  \n",
       "Inter.V1V23     -8.4536     7.0062  -1.207 0.227618    \n",
       "Inter.V1V24      0.5258     5.8523   0.090 0.928412    \n",
       "Inter.V2V7     -17.2521     6.1544  -2.803 0.005069 ** \n",
       "Inter.V3V21     32.4974    14.3177   2.270 0.023243 *  \n",
       "Inter.V6V12     22.2006     5.3333   4.163 3.17e-05 ***\n",
       "Inter.V6V30     39.0913     8.0110   4.880 1.08e-06 ***\n",
       "Inter.V7V28    -20.6669     5.9340  -3.483 0.000498 ***\n",
       "Inter.V7V29    -16.6898     6.6731  -2.501 0.012397 *  \n",
       "Inter.V13V17   147.9477   185.3281   0.798 0.424714    \n",
       "Inter.V13V20    25.2236     6.1153   4.125 3.74e-05 ***\n",
       "Inter.V13V21    48.8998    11.6721   4.189 2.82e-05 ***\n",
       "Inter.V23V29   -33.9827     8.9500  -3.797 0.000147 ***\n",
       "---\n",
       "Signif. codes:  0 '***' 0.001 '**' 0.01 '*' 0.05 '.' 0.1 ' ' 1\n",
       "\n",
       "Residual standard error: 185.2 on 10493 degrees of freedom\n",
       "Multiple R-squared:  0.1066,\tAdjusted R-squared:  0.1048 \n",
       "F-statistic: 56.94 on 22 and 10493 DF,  p-value: < 2.2e-16\n"
      ]
     },
     "metadata": {},
     "output_type": "display_data"
    }
   ],
   "source": [
    "###############################################################################\n",
    "# Earning Equation\n",
    "###############################################################################\n",
    "\n",
    "# Predict earnings\n",
    "st1 <- rlasso(as.matrix(df_red[,c(3:ncol(df_red))]), as.matrix(df$EARNY4))\n",
    "\n",
    "# Store selected variables\n",
    "n1<- names(st1$coefficients[(st1$coefficients != 0) == TRUE])[-1]\n",
    "\n",
    "###############################################################################\n",
    "# Participation Probability\n",
    "###############################################################################\n",
    "\n",
    "# Predict participation\n",
    "st2 <- rlasso(as.matrix(df_red[,c(3:ncol(df_red))]), as.matrix(df$participation))\n",
    "\n",
    "# Store selected variables\n",
    "n2<- names(st2$coefficients[(st2$coefficients != 0) == TRUE])[-1]\n",
    "\n",
    "###############################################################################\n",
    "# Post-Lasso Model\n",
    "###############################################################################\n",
    "\n",
    "# Take union of selected covariates\n",
    "selected_covariates <- c(\"participation\", unique(c(n1, n2)))\n",
    "\n",
    "# Setup the formula of the linear regression model\n",
    "sumx <- paste(selected_covariates, collapse = \" + \")  \n",
    "linear <- paste(\"EARNY4\",paste(sumx, sep=\" + \"), sep=\" ~ \")\n",
    "linear <- as.formula(linear)\n",
    "\n",
    "# Post-Lasso OLS regression\n",
    "ols <- lm(linear, data = df_red)\n",
    "summary(ols)\n",
    "\n",
    "###############################################################################"
   ]
  },
  {
   "cell_type": "markdown",
   "metadata": {},
   "source": [
    "**Answers:**\n",
    "- Participation in Job Corps increased weekly earnings by 15.59 Dollars four years after the experiment. \n",
    "- The model includes interactions of *female* (V1) with *age\\_1* (V2), *job0\\_3* (V15), *earn1* (V18), *welf\\_kid* (V23), and *got\\_fs* (V24); *age_1* (V2) with *black* (V7); *age\\_3* (V3) with *earn4* (V21); *hs\\_ged* (V6) with *everwork* (V12) and *pmsa* (V30); *black* (V7) with *potuse* (V28) and *evarrst* (V29); *yr\\_work* (V13) with *job9\\_12* (V17), *earn3* (V20), and *earn4* (V21); *welf\\_kid* (V23) with *evarrst* (V29). \n",
    "- It is difficult to come up with an economic interpretation why exactly these interaction terms are selected. It is surprising that *hasschld* and *livespou* are not selected.  We should resist the temtation to overinterpret the selected variables. Particularly, we should not interpret the coefficients of the control variables in a causal way.\n",
    "- The post-double-selection procedure does not select the randomly generated variables, which is correct."
   ]
  },
  {
   "cell_type": "code",
   "execution_count": null,
   "metadata": {},
   "outputs": [],
   "source": []
  },
  {
   "cell_type": "code",
   "execution_count": 24,
   "metadata": {},
   "outputs": [
    {
     "data": {
      "image/png": "[encoded data removed]",
      "text/plain": [
       "plot without title"
      ]
     },
     "metadata": {},
     "output_type": "display_data"
    }
   ],
   "source": [
    "set.seed(123456789)\n",
    "\n",
    "## Using Sample A to Predict Sample B\n",
    "# Potential Earnings under Non-Treatment\n",
    "lasso_y0_A <- cv.glmnet(as.matrix(df_int[,c(3:ncol(df_int))]), as.matrix(df$EARNY4), alpha=1, type.measure = 'mse')\n",
    "plot(lasso_y0_A)\n"
   ]
  },
  {
   "cell_type": "code",
   "execution_count": 45,
   "metadata": {},
   "outputs": [],
   "source": [
    "# Estimate LASSO model with 1 standard error lambda in training sample\n",
    "lasso.linear.fit <- glmnet(as.matrix(df_int[,c(3:ncol(df_int))]), as.matrix(df$EARNY4),lambda = lasso_y0_A$lambda.1se)\n",
    "\n",
    "# Select covariates with non-zero coefficients\n",
    "coef <- predict(lasso.linear.fit, type = \"nonzero\") # Method 2\n",
    "colnames <- colnames(df_int[,-c(1:2)])\n",
    "selected.vars <- colnames[unlist(coef)]"
   ]
  },
  {
   "cell_type": "code",
   "execution_count": 46,
   "metadata": {},
   "outputs": [
    {
     "data": {
      "text/html": [
       "<ol class=list-inline>\n",
       "\t<li>'female'</li>\n",
       "\t<li>'black'</li>\n",
       "\t<li>'yr_work'</li>\n",
       "\t<li>'currjob'</li>\n",
       "\t<li>'job9_12'</li>\n",
       "\t<li>'earn3'</li>\n",
       "\t<li>'earn4'</li>\n",
       "\t<li>'Inter.V2V7'</li>\n",
       "\t<li>'Inter.V3V21'</li>\n",
       "\t<li>'Inter.V6V12'</li>\n",
       "\t<li>'Inter.V6V30'</li>\n",
       "\t<li>'Inter.V12V13'</li>\n",
       "\t<li>'Inter.V12V14'</li>\n",
       "\t<li>'Inter.V12V17'</li>\n",
       "\t<li>'Inter.V13V17'</li>\n",
       "\t<li>'Inter.V13V20'</li>\n",
       "\t<li>'Inter.V13V21'</li>\n",
       "</ol>\n"
      ],
      "text/latex": [
       "\\begin{enumerate*}\n",
       "\\item 'female'\n",
       "\\item 'black'\n",
       "\\item 'yr\\_work'\n",
       "\\item 'currjob'\n",
       "\\item 'job9\\_12'\n",
       "\\item 'earn3'\n",
       "\\item 'earn4'\n",
       "\\item 'Inter.V2V7'\n",
       "\\item 'Inter.V3V21'\n",
       "\\item 'Inter.V6V12'\n",
       "\\item 'Inter.V6V30'\n",
       "\\item 'Inter.V12V13'\n",
       "\\item 'Inter.V12V14'\n",
       "\\item 'Inter.V12V17'\n",
       "\\item 'Inter.V13V17'\n",
       "\\item 'Inter.V13V20'\n",
       "\\item 'Inter.V13V21'\n",
       "\\end{enumerate*}\n"
      ],
      "text/markdown": [
       "1. 'female'\n",
       "2. 'black'\n",
       "3. 'yr_work'\n",
       "4. 'currjob'\n",
       "5. 'job9_12'\n",
       "6. 'earn3'\n",
       "7. 'earn4'\n",
       "8. 'Inter.V2V7'\n",
       "9. 'Inter.V3V21'\n",
       "10. 'Inter.V6V12'\n",
       "11. 'Inter.V6V30'\n",
       "12. 'Inter.V12V13'\n",
       "13. 'Inter.V12V14'\n",
       "14. 'Inter.V12V17'\n",
       "15. 'Inter.V13V17'\n",
       "16. 'Inter.V13V20'\n",
       "17. 'Inter.V13V21'\n",
       "\n",
       "\n"
      ],
      "text/plain": [
       " [1] \"female\"       \"black\"        \"yr_work\"      \"currjob\"      \"job9_12\"     \n",
       " [6] \"earn3\"        \"earn4\"        \"Inter.V2V7\"   \"Inter.V3V21\"  \"Inter.V6V12\" \n",
       "[11] \"Inter.V6V30\"  \"Inter.V12V13\" \"Inter.V12V14\" \"Inter.V12V17\" \"Inter.V13V17\"\n",
       "[16] \"Inter.V13V20\" \"Inter.V13V21\""
      ]
     },
     "metadata": {},
     "output_type": "display_data"
    }
   ],
   "source": [
    "selected.vars"
   ]
  },
  {
   "cell_type": "code",
   "execution_count": 47,
   "metadata": {},
   "outputs": [
    {
     "data": {
      "text/plain": [
       "\n",
       "Call:\n",
       "lm(formula = post.lasso.model, data = df_int)\n",
       "\n",
       "Residuals:\n",
       "    Min      1Q  Median      3Q     Max \n",
       "-386.62 -138.07  -20.85   92.85 2165.99 \n",
       "\n",
       "Coefficients: (5 not defined because of singularities)\n",
       "             Estimate Std. Error t value Pr(>|t|)    \n",
       "(Intercept)   201.011      4.026  49.932  < 2e-16 ***\n",
       "female        -59.864      3.715 -16.113  < 2e-16 ***\n",
       "black         -31.713      4.313  -7.352 2.10e-13 ***\n",
       "yr_work        39.518      4.423   8.935  < 2e-16 ***\n",
       "currjob        18.529      5.018   3.692 0.000223 ***\n",
       "job9_12      -205.550    186.434  -1.103 0.270254    \n",
       "earn3          30.153      5.994   5.030 4.98e-07 ***\n",
       "earn4          51.121     11.658   4.385 1.17e-05 ***\n",
       "Inter.V2V7    -19.438      5.480  -3.547 0.000391 ***\n",
       "Inter.V3V21    33.385     14.365   2.324 0.020140 *  \n",
       "Inter.V6V12    25.544      5.226   4.888 1.03e-06 ***\n",
       "Inter.V6V30    39.174      8.015   4.888 1.04e-06 ***\n",
       "Inter.V12V13       NA         NA      NA       NA    \n",
       "Inter.V12V14       NA         NA      NA       NA    \n",
       "Inter.V12V17       NA         NA      NA       NA    \n",
       "Inter.V13V17  217.273    186.355   1.166 0.243676    \n",
       "Inter.V13V20       NA         NA      NA       NA    \n",
       "Inter.V13V21       NA         NA      NA       NA    \n",
       "---\n",
       "Signif. codes:  0 '***' 0.001 '**' 0.01 '*' 0.05 '.' 0.1 ' ' 1\n",
       "\n",
       "Residual standard error: 185.9 on 10503 degrees of freedom\n",
       "Multiple R-squared:  0.09897,\tAdjusted R-squared:  0.09794 \n",
       "F-statistic: 96.13 on 12 and 10503 DF,  p-value: < 2.2e-16\n"
      ]
     },
     "metadata": {},
     "output_type": "display_data"
    }
   ],
   "source": [
    "# Prepare (unscaled) LASSO variables\n",
    "#lasso_covariates_hold_out <- as.data.frame(cbind(df_hold_out[,c(4:ncol(df_hold_out))],noise.covars.hold.out)) \n",
    "#lasso_covariates_est <- as.data.frame(cbind(df_est[,c(4:ncol(df_est))],noise.covars.est)) \n",
    "\n",
    "# Linear Post-LASSO fit in estimation sample\n",
    "post.lasso.model <- paste(\"EARNY4\", paste(selected.vars, collapse=\" + \"),  sep = \" ~ \") \n",
    "post.lasso.model <- as.formula(post.lasso.model)\n",
    "post.lasso <- lm(post.lasso.model, data=df_int)\n",
    "summary(post.lasso)"
   ]
  },
  {
   "cell_type": "code",
   "execution_count": null,
   "metadata": {},
   "outputs": [],
   "source": []
  },
  {
   "cell_type": "code",
   "execution_count": null,
   "metadata": {},
   "outputs": [],
   "source": []
  },
  {
   "cell_type": "code",
   "execution_count": null,
   "metadata": {},
   "outputs": [],
   "source": []
  },
  {
   "cell_type": "markdown",
   "metadata": {},
   "source": [
    "**Exercise:**\n",
    "\n",
    "Apply the Lasso to the equation\n",
    "\\begin{equation*}\n",
    "EARNY4 = \\gamma + \\delta \\cdot participation + \\beta \\cdot X + u\n",
    "\\end{equation*}\n",
    "for model selection. Estimate the selected model with a Post-Lasso OLS. Do the results make sense? Why is omitted variable bias inevitable?"
   ]
  },
  {
   "cell_type": "code",
   "execution_count": null,
   "metadata": {},
   "outputs": [],
   "source": [
    "###############################################################################\n",
    "# Earning Equation\n",
    "###############################################################################\n",
    "\n",
    "# Predict earnings\n",
    "st1 <- rlasso(as.matrix(df_red[,c(2:ncol(df_red))]), as.matrix(df$EARNY4))\n",
    "\n",
    "# Store selected variables\n",
    "n1<- names(st1$coefficients[(st1$coefficients != 0) == TRUE])[-1]\n",
    "\n",
    "# Setup the formula of the linear regression model\n",
    "sumx <- paste(n1, collapse = \" + \")  \n",
    "linear <- paste(\"EARNY4\",paste(sumx, sep=\" + \"), sep=\" ~ \")\n",
    "linear <- as.formula(linear)\n",
    "\n",
    "# Post-Lasso OLS regression\n",
    "ols <- lm(linear, data = df_red)\n",
    "summary(ols)"
   ]
  }
 ],
 "metadata": {
  "kernelspec": {
   "display_name": "R",
   "language": "R",
   "name": "ir"
  },
  "language_info": {
   "codemirror_mode": "r",
   "file_extension": ".r",
   "mimetype": "text/x-r-source",
   "name": "R",
   "pygments_lexer": "r",
   "version": "3.6.1"
  }
 },
 "nbformat": 4,
 "nbformat_minor": 4
}
